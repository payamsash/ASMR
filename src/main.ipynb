{
 "cells": [
  {
   "cell_type": "code",
   "execution_count": null,
   "metadata": {},
   "outputs": [],
   "source": [
    "from tools import *\n",
    "run_prompt_window()\n",
    "cat_solo_img = run_instruction_phase()\n",
    "recorder, receiver, stream_name, trigger, fft_window, smr_band = stream_eeg_data()\n",
    "run_experiment(recorder, receiver, stream_name, trigger, fft_window, smr_band, cat_solo_img)"
   ]
  }
 ],
 "metadata": {
  "kernelspec": {
   "display_name": "Python 3",
   "language": "python",
   "name": "python3"
  },
  "language_info": {
   "name": "python",
   "version": "3.10.9"
  }
 },
 "nbformat": 4,
 "nbformat_minor": 2
}
